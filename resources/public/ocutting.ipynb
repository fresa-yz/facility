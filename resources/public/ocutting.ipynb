{
 "cells": [
  {
   "cell_type": "markdown",
   "metadata": {},
   "source": [
    "# Orthogonal Cutting : Simplest Model"
   ]
  },
  {
   "cell_type": "code",
   "execution_count": 2,
   "metadata": {
    "collapsed": true
   },
   "outputs": [],
   "source": [
    "import numpy as np"
   ]
  },
  {
   "cell_type": "markdown",
   "metadata": {},
   "source": [
    "## Force model"
   ]
  },
  {
   "cell_type": "markdown",
   "metadata": {},
   "source": [
    "Equations from *Metal Cutting Mechanics and Material Behavior*, Serge Jaspers, 1999 PhD Thesis"
   ]
  },
  {
   "cell_type": "markdown",
   "metadata": {},
   "source": [
    "<img src=\"./ocutting-forces.jpg\" width=\"400\">"
   ]
  },
  {
   "cell_type": "markdown",
   "metadata": {},
   "source": [
    "| Symbol     | Variable | Meaning                   | Relevant Concepts |Units|\n",
    "|-----------------------------------------------------------------------------|\n",
    "| b         | b         | Cutting width (not shown) |                   | [Meter](http://qudt.org/vocab/unit#Meter) |\n",
    "| $h_{feed}$| h_feed    | Feed rate (diagram shows this as h)|          | [Meter](http://qudt.org/vocab/unit#Meter) |   \n",
    "| $h$       | h         | Undeformed chip width (diagram shows this as $h_c$)||[Meter](http://qudt.org/vocab/unit#Meter) |    \n",
    "| $\\alpha$  | alpha     | Rake angle                |                   |[Radian](http://qudt.org/vocab/unit#Radian) |\n",
    "| $\\varphi$ | phi       | Shear angle               |                   |[Radian](http://qudt.org/vocab/unit#Radian) | \n",
    "| $F_s$     | F_s       | Shear force               |                   |[Newton](http://qudt.org/vocab/unit#Newton) |\n",
    "| $F_V$     | F_V       | Cutting force             |                   |[Newton](http://qudt.org/vocab/unit#Newton) |     \n",
    "| $F_T$     | F_T       | Thrust force              |                   |[Newton](http://qudt.org/vocab/unit#Newton) |\n",
    "| $\\beta$   | beta      | Friction angle (Eqn 2.8)  |                   |[Radian](http://qudt.org/vocab/unit#Radian) |\n",
    "| $\\tau_F$  | tau_F     | Shear flow stress         |                   |[Pascal](http://qudt.org/vocab/unit#Pascal) |"
   ]
  },
  {
   "cell_type": "markdown",
   "metadata": {},
   "source": [
    "### Simplifications\n",
    "* Orthogonal cutting with cutting width much larger than chip thickness ==> plain strain\n",
    "* Perfectly sharp tool ==> no contact between clearance face and and workpiece.\n",
    "* Continuous chip, no built-up edge\n",
    "* Shear zone is plane and stress in this shear plane is uniform"
   ]
  },
  {
   "cell_type": "markdown",
   "metadata": {},
   "source": [
    "### Notes\n",
    "Force values are very sensitive to values of phi (and I'm guessing on phi): \n",
    "  * phi = pi/4 ==> F_T = 0, F_V = 517 newtons\n",
    "  * phi = pi/3 ==> T_F is negative!\n",
    "  * phi = pi/5 ==> F_V = 955 and F_T = 310 newtons. These seem to be reasonable. See for example see Table 1 in [1]. "
   ]
  },
  {
   "cell_type": "code",
   "execution_count": 113,
   "metadata": {
    "collapsed": false
   },
   "outputs": [
    {
     "name": "stdout",
     "output_type": "stream",
     "text": [
      "7.51943521008e-05\n"
     ]
    }
   ],
   "source": [
    "phi    = np.pi / 5   # Guessing. Need force values  -- with pi/4 F_T is zero!\n",
    "alpha  = np.pi / 32  # 5 degree positive rake angle\n",
    "h_feed = 0.000051    # Feed rate, m/sec using Ozel & Altan \n",
    "b = .005             # Cutting width (width of tool face) in meters\n",
    "h = h_feed / np.tan(phi) + h_feed * np.sin(alpha) # undeformed chip width\n",
    "print(h)"
   ]
  },
  {
   "cell_type": "markdown",
   "metadata": {},
   "source": [
    "Eqn 2.8 (solving for beta):\n",
    "\n",
    "$\\varphi = \\frac{\\pi}{4} - \\frac{\\beta}{2} + \\frac{\\alpha}{2}$           \n"
   ]
  },
  {
   "cell_type": "code",
   "execution_count": 114,
   "metadata": {
    "collapsed": false
   },
   "outputs": [],
   "source": [
    "beta   = (np.pi / 2) + alpha - (2* phi) # Eqn 2.8\n",
    "tau_F  = 923000000.0 # Pascals Ozel & Altan Table 3, 0.051mm/rev feed, 550m/min speed, P20 mold steel."
   ]
  },
  {
   "cell_type": "markdown",
   "metadata": {},
   "source": [
    "### Calculate principal cutting force (opposite direction of V)\n",
    "Eqn 2.5:\n",
    "\n",
    "$F_V = \\tau_F b h \\frac{cos(\\beta - \\alpha)}{cos(\\varphi + \\beta - \\alpha)sin \\varphi}$\n"
   ]
  },
  {
   "cell_type": "code",
   "execution_count": 115,
   "metadata": {
    "collapsed": false
   },
   "outputs": [],
   "source": [
    "def calc_F_V (alpha, beta, phi, tau_F, b, h): # Answer in newtons\n",
    "    return (tau_F * b * h * (np.cos(beta-alpha) / (np.cos(phi+beta-alpha)*np.sin(phi))))\n",
    "    "
   ]
  },
  {
   "cell_type": "code",
   "execution_count": 116,
   "metadata": {
    "collapsed": false
   },
   "outputs": [
    {
     "data": {
      "text/plain": [
       "955.26943453144781"
      ]
     },
     "execution_count": 116,
     "metadata": {},
     "output_type": "execute_result"
    }
   ],
   "source": [
    "calc_F_V(alpha, beta, phi, tau_F, b, h) # 517 newtons (at phi=pi/4). Seems OK to me."
   ]
  },
  {
   "cell_type": "markdown",
   "metadata": {},
   "source": [
    "### Calculate thrust force (perpendicular to principal cutting force)\n",
    "Eqn 2.6:\n",
    "\n",
    "$F_T = \\tau_F b h \\frac{sin(\\beta - \\alpha)}{cos(\\varphi + \\beta - \\alpha)sin \\varphi}$"
   ]
  },
  {
   "cell_type": "code",
   "execution_count": 117,
   "metadata": {
    "collapsed": true
   },
   "outputs": [],
   "source": [
    "def calc_F_T (alpha, beta, phi, tau_F, b, h):\n",
    "    return (tau_F * b * h * (np.sin(beta-alpha) / (np.cos(phi+beta-alpha)*np.sin(phi))))"
   ]
  },
  {
   "cell_type": "code",
   "execution_count": 118,
   "metadata": {
    "collapsed": false
   },
   "outputs": [
    {
     "data": {
      "text/plain": [
       "310.38585448853831"
      ]
     },
     "execution_count": 118,
     "metadata": {},
     "output_type": "execute_result"
    }
   ],
   "source": [
    "calc_F_T(alpha, beta, phi, tau_F, b, h) # 310 newtons (at phi = pi/5 )"
   ]
  },
  {
   "cell_type": "code",
   "execution_count": 122,
   "metadata": {
    "collapsed": false
   },
   "outputs": [
    {
     "name": "stdout",
     "output_type": "stream",
     "text": [
      "beta = 0.41233403578366046 alpha =  0.09817477042468103\n"
     ]
    },
    {
     "data": {
      "text/plain": [
       "0.30901699437494751"
      ]
     },
     "execution_count": 122,
     "metadata": {},
     "output_type": "execute_result"
    }
   ],
   "source": [
    "print(\"beta =\", beta, \"alpha = \", alpha)\n",
    "np.sin(beta-alpha)"
   ]
  },
  {
   "cell_type": "markdown",
   "metadata": {
    "collapsed": true
   },
   "source": [
    "# References"
   ]
  },
  {
   "cell_type": "markdown",
   "metadata": {},
   "source": [
    "[1] V. S. Sharma, S. Dhiman, R. Sehgal, and S. K. Sharma, “Estimation of cutting forces and surface roughness for hard turning using neural networks,” J. Intell. Manuf., vol. 19, no. 4, pp. 473–483, 2008."
   ]
  }
 ],
 "metadata": {
  "kernelspec": {
   "display_name": "Python 3",
   "language": "python",
   "name": "python3"
  },
  "language_info": {
   "codemirror_mode": {
    "name": "ipython",
    "version": 3
   },
   "file_extension": ".py",
   "mimetype": "text/x-python",
   "name": "python",
   "nbconvert_exporter": "python",
   "pygments_lexer": "ipython3",
   "version": "3.5.1"
  }
 },
 "nbformat": 4,
 "nbformat_minor": 0
}
