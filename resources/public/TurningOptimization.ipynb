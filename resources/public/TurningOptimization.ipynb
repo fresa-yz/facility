{
 "cells": [
  {
   "cell_type": "markdown",
   "metadata": {},
   "source": [
    "# Optimal Cutting Parameters for Turning Operations with Costs of Quality and Tool Wear Compensation"
   ]
  },
  {
   "cell_type": "markdown",
   "metadata": {},
   "source": [
    "This notebook calculates optimal process parameters for a turning operations using a model describes by Abdelmaguid and El-Hossainy, [[1]](http://iieom.org/ieom2012/pdfs/233.pdf) \n",
    "The problem described in that paper is one where multiple parts are turned with a single tool, and optimal cutting parameters are provided for multiple tool replacement scenarios, e.g., the tool is to replaced or reground after each part, after each second part, after \n",
    "each third part etc. The objective function seeks to optimize profit with constraints on quality (surface finish and dimensional accuracy)."
   ]
  },
  {
   "cell_type": "code",
   "execution_count": 1,
   "metadata": {
    "collapsed": true
   },
   "outputs": [],
   "source": [
    "import numpy as np\n",
    "from scipy.optimize import minimize\n",
    "import scipy.integrate as integrate\n",
    "import functools # This allows us to curry functions."
   ]
  },
  {
   "cell_type": "markdown",
   "metadata": {},
   "source": [
    "### Cutting time"
   ]
  },
  {
   "cell_type": "markdown",
   "metadata": {},
   "source": [
    "| Symbol     | Variable | Meaning | Relevant Concepts |Units|\n",
    "|---------------------------------------------------------------|\n",
    "| $D$        | D       | Final product target diameter| [FinalDimension](http://modelmeth.nist.gov/manufacturing#FinalDimension), [Diameter](http://modelmeth.nist.gov/manufacturing#Diameter), [WorkpieceDimension](http://modelmeth.nist.gov/manufacturing#WorkpieceDimension) | [Millimeter](http://qudt.org/vocab/unit#Millimeter) |\n",
    "| $d_i$      | d_i     |depth of cut for part *i* | [DepthOfCut](http://modelmeth.nist.gov/manufacturing#DepthOfCut)  | [Millimeter](http://qudt.org/vocab/unit#Millimeter) |\n",
    "| $\\delta_i$ | delta_i |tool wear compensation for part *i*| [DepthOfCut](http://modelmeth.nist.gov/manufacturing#DepthOfCut), [ToolWear](http://modelmeth.nist.gov/manufacturing#ToolWear) | [Millimeter](http://qudt.org/vocab/unit#Millimeter) |\n",
    "| $V$        | V       |Cutting speed | [CuttingSpeed](http://modelmeth.nist.gov/manufacturing#CuttingSpeed) | [MeterPerMinute](http://qudt.org/vocab/unit#MeterPerMinute) |\n",
    "| $f$        | f       | Feed rate | [CuttingFeedRate](http://modelmeth.nist.gov/manufacturing#CuttingFeedRate) | Millimeter/rev |\n",
    "| $N$        | N       |Tool regrind scenario | [MachineToolChanger](http://modelmeth.nist.gov/manufacturing#MachineToolChanger), [TotalProcessValue](http://modelmeth.nist.gov/manufacturing#TotalProcessValue) | [Unitless](http://qudt.org/vocab/unit#Unitless) |"
   ]
  },
  {
   "cell_type": "markdown",
   "metadata": {},
   "source": [
    "The depth of cut for part *i* is given by:"
   ]
  },
  {
   "cell_type": "markdown",
   "metadata": {},
   "source": [
    "\\begin{equation}\n",
    "d_i = \\frac{D_0 - D}{2} + \\delta_i\n",
    "\\end{equation}"
   ]
  },
  {
   "cell_type": "markdown",
   "metadata": {},
   "source": [
    "The mean cutting diameter is estimated as $\\bar{D_i} = ( D_0 - d_i )$."
   ]
  },
  {
   "cell_type": "markdown",
   "metadata": {},
   "source": [
    "The cutting time for part *i* in minutes:\n",
    "\\begin{equation}\n",
    "t_{c,i} = \\frac{\\pi \\bar{D_i} L}{1000Vf}\n",
    "\\end{equation}"
   ]
  },
  {
   "cell_type": "code",
   "execution_count": 2,
   "metadata": {
    "collapsed": false
   },
   "outputs": [],
   "source": [
    "D   =  98.0     # target diameter, mm\n",
    "D_0 = 100.0     # original diameter, mm\n",
    "delta_i = 0.050 # tool wear compensation, mm, A DESIGN VARIABLE. I'm initializing it.\n",
    "d_i = ((D_0 - D) / 2) + delta_i # depth of cut\n",
    "D_bar_i = (D_0 - d_i) # mean cutting diameter\n",
    "L = 35.0              # length of cut"
   ]
  },
  {
   "cell_type": "markdown",
   "metadata": {},
   "source": [
    "**Function t_ci_calc** Cutting time for part i, a function of speed (m/min) and feed rate (mm/rev):"
   ]
  },
  {
   "cell_type": "code",
   "execution_count": 3,
   "metadata": {
    "collapsed": true
   },
   "outputs": [],
   "source": [
    "def t_ci_calc (V, f):   \n",
    "    return ((np.pi * D_bar_i * L) / (1000.0 * V * f)) # Eqn 2"
   ]
  },
  {
   "cell_type": "markdown",
   "metadata": {},
   "source": [
    "Just to assess the correctness of other calculations, we'll need a value for $t_c$ (time, cutting)for i=1 using the optimal values for V and f from Table 6 of the paper: V=70, f=0.0898. We can use this $t_{c,i}$ for calculations such as Eqn. 5 from the paper (tool wear)"
   ]
  },
  {
   "cell_type": "code",
   "execution_count": 4,
   "metadata": {
    "collapsed": false
   },
   "outputs": [
    {
     "data": {
      "text/plain": [
       "1.7308496273536194"
      ]
     },
     "execution_count": 4,
     "metadata": {},
     "output_type": "execute_result"
    }
   ],
   "source": [
    "t_0test = t_ci_calc(70.0, 0.0898)\n",
    "t_0test"
   ]
  },
  {
   "cell_type": "markdown",
   "metadata": {},
   "source": [
    "$T_n = \\sum\\limits_{i=1}^n t_{ci}$"
   ]
  },
  {
   "cell_type": "code",
   "execution_count": 5,
   "metadata": {
    "collapsed": false
   },
   "outputs": [],
   "source": [
    "def T_n_calc(V,f,N): # POD I think this can just be N*t_ci_calc\n",
    "    return(N*t_ci_calc(V,f))"
   ]
  },
  {
   "cell_type": "markdown",
   "metadata": {},
   "source": [
    "### Tool Wear"
   ]
  },
  {
   "cell_type": "markdown",
   "metadata": {},
   "source": [
    "| Symbol     | Variable | Meaning | Relevant Concepts | Units |\n",
    "|-----------------------------------------------------|\n",
    "| $W_i$      | W_i      | Total tool wear reached at the end of processing part i| [ToolWear](http://modelmeth.nist.gov/manufacturing#ToolWear), [TotalProcessValue](http://modelmeth.nist.gov/manufacturing#TotalProcessValue) | [Millimeter](http://qudt.org/vocab/unit#Millimeter) |\n",
    "| $w_i$      | w_i      | Tool wear at time t for part i | [ToolWear](http://modelmeth.nist.gov/manufacturing#ToolWear), [IndividualPartValue](http://modelmeth.nist.gov/manufacturing#IndividualPartValue) | [Millimeter](http://qudt.org/vocab/unit#Millimeter) |\n",
    "| $t_{w,i}$  | t_wi     | Time required to wear tool to point where part i-1 is finished| [Cumulative Use](http://modelmeth.nist.gov/manufacturing#CumulativeUse), [TotalProcessValue](http://modelmeth.nist.gov/manufacturing#TotalProcessValue), [ProcessTime](http://modelmeth.nist.gov/manufacturing#ProcessTime) | [Second](http://qudt.org/vocab/unit#Second) |\n",
    "| $\\hat{W}$  | W_hat    | Maximum allowed tool wear | [ToolWear](http://modelmeth.nist.gov/manufacturing#ToolWear), [MaximumAcceptedValue](http://modelmeth.nist.gov/manufacturing#MaximumAcceptableValue)| [Millimeter](http://qudt.org/vocab/unit#Millimeter) |\n",
    "| $\\Delta_i$ | Delta_i  | Workpiece diameter drift | [Drift](http://modelmeth.nist.gov/manufacturing#Drift) | [Millimeter](http://qudt.org/vocab/unit#Millimeter) |\n",
    "| $\\Theta$   | Theta    | Tool clearance angle | [ToolClearanceAngle](http://modelmeth.nist.gov/manufacturing#ToolClearanceAngle) | [DegreeAngle](http://qudt.org/vocab/unit#DegreeAngle) |\n",
    "| $\\Phi_i$ |  | Surface Roughness at time t for part i | [SurfaceRoughness](http://modelmeth.nist.gov/manufacturing#SurfaceRoughness), [CalculatedValue](http://modelmeth.nist.gov/manufacturing#CalculatedValue) | [Micrometer](http://qudt.org/vocab/unit#Micrometer) |\n",
    "|$F_i$ |  | Cutting Force at time t for part i | [CuttingForce](http://modelmeth.nist.gov/manufacturing#CuttingForce), [CalculatedValue](http://modelmeth.nist.gov/manufacturing#CalculatedValue) | [Newton](http://qudt.org/vocab/unit#Newton) |"
   ]
  },
  {
   "cell_type": "markdown",
   "metadata": {
    "collapsed": true
   },
   "source": [
    "Empirically estimated tool wear formula: $w = k_wV^{\\alpha_w}f^{\\beta_w}d^{\\gamma_w}t^{\\sigma_w}$"
   ]
  },
  {
   "cell_type": "markdown",
   "metadata": {},
   "source": [
    "It appears then, that tool wear is a function of t. If so, it might have better to use $w_i(t)$ in the paper. Nonetheless, sic, Equation 5:"
   ]
  },
  {
   "cell_type": "markdown",
   "metadata": {},
   "source": [
    "$w_i = k_w V^{\\alpha_w} f^{\\beta_w} d_i^{\\gamma_w} (t_{w,i} + t)^{\\sigma_w}$  \n",
    "\n",
    "for $0 \\le t \\le t_{c,i}$"
   ]
  },
  {
   "cell_type": "markdown",
   "metadata": {},
   "source": [
    "The paper provides the following values for the parameters, and wear limit:"
   ]
  },
  {
   "cell_type": "code",
   "execution_count": 6,
   "metadata": {
    "collapsed": false
   },
   "outputs": [],
   "source": [
    "k_w = 8.2961e-5\n",
    "alpha_w = 2.747 # paper has 1.261. \n",
    "beta_w = 1.473 \n",
    "gamma_w = 1.261\n",
    "sigma_w = 0.43\n",
    "W_hat = 0.40\n",
    "Theta = 15 #angle in degrees, not radians"
   ]
  },
  {
   "cell_type": "markdown",
   "metadata": {},
   "source": [
    "**Function t_wi_calc** Eqn 6, cumulative time for wear equivalent to processing part i-1 **Is this really useful??? **"
   ]
  },
  {
   "cell_type": "markdown",
   "metadata": {},
   "source": [
    "\\begin{equation}\n",
    "t_{w,i} = (\\frac{1}{k_w} V^{-\\alpha_w} f^{-\\beta_w} d_i^{-\\gamma_w} W_{i-1})^{\\frac{1}{\\sigma_w}}\n",
    "\\end{equation}"
   ]
  },
  {
   "cell_type": "code",
   "execution_count": 7,
   "metadata": {
    "collapsed": false
   },
   "outputs": [],
   "source": [
    "def t_wi_calc (i,V,f): # POD Is this really useful? Phi_calc just needs a time!\n",
    "    if (i == 1):\n",
    "        return(0.0)\n",
    "    else:\n",
    "        return((1/k_w * V**(-alpha_w) * \n",
    "                f**(-beta_w) * \n",
    "                d_i**(-gamma_w) * \n",
    "                w_i_calc(i-1,t_ci_calc(V,f),V,f))**(1/sigma_w))"
   ]
  },
  {
   "cell_type": "markdown",
   "metadata": {},
   "source": [
    "**Function w_i_calc** : Tool wear processing part i after time t."
   ]
  },
  {
   "cell_type": "code",
   "execution_count": 8,
   "metadata": {
    "collapsed": true
   },
   "outputs": [],
   "source": [
    "def w_i_calc (i,t,V,f):\n",
    "    return(k_w*(V**alpha_w)*(f**beta_w)*(d_i**gamma_w)*((t_wi_calc(i,f,V)+t)**sigma_w))"
   ]
  },
  {
   "cell_type": "code",
   "execution_count": 9,
   "metadata": {
    "collapsed": false
   },
   "outputs": [
    {
     "name": "stdout",
     "output_type": "stream",
     "text": [
      "14.7012368326008 14.701236832600781\n"
     ]
    }
   ],
   "source": [
    "# Let's test it with N=7 parameters. Should get about the time required to do 6 parts.\n",
    "t7_wear_time = t_wi_calc(7,55.23,0.0804)\n",
    "t7_cut_time = 6*t_ci_calc(55.23,0.0804)\n",
    "print(t7_wear_time, t7_cut_time) # So close. Is there an identity here I missed?"
   ]
  },
  {
   "cell_type": "markdown",
   "metadata": {},
   "source": [
    "Here is another test using optimal test parameter. Tool wear limit is 0.4mm. Since I'm getting a little less than that, 0.37558, I'm guessing that we are bumping up against the quality loss, instead of this."
   ]
  },
  {
   "cell_type": "code",
   "execution_count": 10,
   "metadata": {
    "collapsed": false
   },
   "outputs": [
    {
     "data": {
      "text/plain": [
       "0.3755826829941073"
      ]
     },
     "execution_count": 10,
     "metadata": {},
     "output_type": "execute_result"
    }
   ],
   "source": [
    "w_i_calc(1,t_0test,70.0,0.0898) # Example, wear in mm after 1 part using optimal parameters"
   ]
  },
  {
   "cell_type": "code",
   "execution_count": 11,
   "metadata": {
    "collapsed": false
   },
   "outputs": [
    {
     "name": "stdout",
     "output_type": "stream",
     "text": [
      "0.41395264627206946 0.4139526462720694\n"
     ]
    }
   ],
   "source": [
    "# Wear *starting* the 6th part, with N=6 parameters (a bit too high unless delta_i < 0.030)\n",
    "test1 = w_i_calc(6,0.0,56.32,0.0823)\n",
    "test2 = w_i_calc(5,t_ci_calc(56.32,0.0823),56.32,0.0823)\n",
    "print( test1, test2) # 0.41395264627206946 0.4139526462720694"
   ]
  },
  {
   "cell_type": "code",
   "execution_count": 12,
   "metadata": {
    "collapsed": false
   },
   "outputs": [
    {
     "name": "stdout",
     "output_type": "stream",
     "text": [
      "0.41759265743261154 0.41759265743261165\n"
     ]
    }
   ],
   "source": [
    "# Wear *starting* the 7th part, with N=7 parameters (a bit too high unless delta_i < 0.030)\n",
    "test_start = w_i_calc(7,0.0,55.23,0.0804) \n",
    "test_end   = w_i_calc(6,t_ci_calc(55.23,0.0804),55.23,0.0804)\n",
    "print( test_start, test_end) # 0.41395264627206946 0.4139526462720694"
   ]
  },
  {
   "cell_type": "markdown",
   "metadata": {},
   "source": [
    "$\\hat{N}$ is the number of parts produced before regrinding is required. \n",
    "\n",
    "$\\hat{N} = argmax_{i=1,2...}(\\hat{W} - W_i)$ for $\\hat{W} - W_i \\ge 0$\n",
    "\n",
    "Simpler formulation below:"
   ]
  },
  {
   "cell_type": "code",
   "execution_count": 13,
   "metadata": {
    "collapsed": false
   },
   "outputs": [],
   "source": [
    "def wear_limit_calc(N,V,f): # POD but this isn't used nonetheless!\n",
    "    return w_i_calc(N,t_ci_calc(V,f),V,f)"
   ]
  },
  {
   "cell_type": "code",
   "execution_count": 14,
   "metadata": {
    "collapsed": false
   },
   "outputs": [
    {
     "name": "stdout",
     "output_type": "stream",
     "text": [
      "0.3755826829941073 0.41142164644006035\n"
     ]
    }
   ],
   "source": [
    "test1 = wear_limit_calc(1,70.0,0.0898)\n",
    "test2 = wear_limit_calc(1,70.0,0.0980)\n",
    "print(test1, test2) # True False"
   ]
  },
  {
   "cell_type": "markdown",
   "metadata": {},
   "source": [
    "Workpiece drift: $\\Delta_i = 2(w_i - W_{i-1})tan(\\Theta)$ for $0 \\le t \\le t_{c,i}$"
   ]
  },
  {
   "cell_type": "code",
   "execution_count": 15,
   "metadata": {
    "collapsed": false
   },
   "outputs": [],
   "source": [
    "def Delta_i_calc(i,t,V,f):\n",
    "    if (i==1): \n",
    "        return(2.0 * w_i_calc(i,t,V,f) * np.tan(Theta))\n",
    "    else:\n",
    "        return(2.0 * (w_i_calc(i,t,V,f) - w_i_calc(i-1,t_ci_calc(V,f),V,f)) * np.tan(Theta))"
   ]
  },
  {
   "cell_type": "code",
   "execution_count": 16,
   "metadata": {
    "collapsed": false
   },
   "outputs": [
    {
     "data": {
      "text/plain": [
       "-0.34248397293218547"
      ]
     },
     "execution_count": 16,
     "metadata": {},
     "output_type": "execute_result"
    }
   ],
   "source": [
    "Delta_i_calc(1,0.4,70.0,0.0898) # This is a little too high!"
   ]
  },
  {
   "cell_type": "code",
   "execution_count": 17,
   "metadata": {
    "collapsed": false
   },
   "outputs": [
    {
     "data": {
      "text/plain": [
       "-0.26177712913418677"
      ]
     },
     "execution_count": 17,
     "metadata": {},
     "output_type": "execute_result"
    }
   ],
   "source": [
    "Delta_i_calc(2,0.4,70.0,0.1898)# Good"
   ]
  },
  {
   "cell_type": "markdown",
   "metadata": {},
   "source": [
    "### Surface roughness"
   ]
  },
  {
   "cell_type": "markdown",
   "metadata": {},
   "source": [
    "Surface roughness is determined empirically by the equation provided below:\n",
    "\n",
    "$\\Phi_i = k_r V^{\\alpha_r} f^{\\beta_r} d_i^{\\gamma_r}(t_{w,i} + t)^{\\sigma_r}$\n",
    "\n",
    "The paper provides the following values for the parameters:"
   ]
  },
  {
   "cell_type": "code",
   "execution_count": 18,
   "metadata": {
    "collapsed": true
   },
   "outputs": [],
   "source": [
    "k_r = 11.619\n",
    "alpha_r = 0.261\n",
    "beta_r = 0.565\n",
    "gamma_r = 0.565 # suspect!\n",
    "sigma_r = 0.08887"
   ]
  },
  {
   "cell_type": "code",
   "execution_count": 19,
   "metadata": {
    "collapsed": true
   },
   "outputs": [],
   "source": [
    "def Phi_i_calc(i,t,V,f): \n",
    "    return(k_r * V**alpha_r * f**beta_r * d_i**gamma_r * (t_wi_calc(i,V,f) + t)**sigma_r)"
   ]
  },
  {
   "cell_type": "code",
   "execution_count": 20,
   "metadata": {
    "collapsed": false
   },
   "outputs": [
    {
     "name": "stdout",
     "output_type": "stream",
     "text": [
      "9.48337623888521 9.73837584500662 9.964802273159505 13.907153338994608 9.401748980904973\n"
     ]
    }
   ],
   "source": [
    "# Paper says that this should be 9.203. \n",
    "# It seems likely that the parameters provided above are not correct.\n",
    "test0 = Phi_i_calc(1,t_ci_calc(60.0, 0.0898),60.0,0.0898)\n",
    "test1 = Phi_i_calc(1,t_ci_calc(70.0, 0.0898),70.0,0.0898)\n",
    "test2 = Phi_i_calc(1,t_ci_calc(80.0, 0.0898),80.0,0.0898)\n",
    "\n",
    "test3 = Phi_i_calc(1,t_ci_calc(70.0, 0.1898),70.0,0.1898)\n",
    "test4 = Phi_i_calc(1,0.01,70.0,0.1898)\n",
    "\n",
    "print (test0, test1, test2, test3, test4) # Good"
   ]
  },
  {
   "cell_type": "markdown",
   "metadata": {},
   "source": [
    "### Cutting Force"
   ]
  },
  {
   "cell_type": "markdown",
   "metadata": {},
   "source": [
    "The cutting force can be estimated empirically by the formula provided in the paper:\n",
    "\n",
    "$ F_i = k_c V^{\\alpha_c} f^{\\beta_c} d_i^{\\gamma_c}(t_{w,i} + t)^{\\sigma_c}$\n",
    "\n",
    "The paper provides the following values for the parameters:"
   ]
  },
  {
   "cell_type": "code",
   "execution_count": 21,
   "metadata": {
    "collapsed": true
   },
   "outputs": [],
   "source": [
    "k_c = 1514.6     # Paper says 173226.613 \n",
    "alpha_c = 0.0992 # Paper says -0.992. Negative value doesn't make sense.\n",
    "beta_c = 1.016\n",
    "gamma_c = 1.033\n",
    "sigma_c = 0.03877"
   ]
  },
  {
   "cell_type": "code",
   "execution_count": 22,
   "metadata": {
    "collapsed": true
   },
   "outputs": [],
   "source": [
    "def F_i_calc (i,t,V,f):\n",
    "    return(k_c * V**alpha_c * f**beta_c * d_i**gamma_c * (t_wi_calc(i,V,f) + t)**sigma_c)"
   ]
  },
  {
   "cell_type": "code",
   "execution_count": 23,
   "metadata": {
    "collapsed": false
   },
   "outputs": [
    {
     "data": {
      "text/plain": [
       "13283.820873186105"
      ]
     },
     "execution_count": 23,
     "metadata": {},
     "output_type": "execute_result"
    }
   ],
   "source": [
    "# Paper says 15kW max. I suppose (for no good reason) the numbers calculated are in watts.\n",
    "# It seems to behave reasonably with respect to time (increasing slightly).\n",
    "# It seems to behave reasonably with respect to feed (increasing substantially).\n",
    "# It DOES NOT increase with increasing speed. In fact, speeds < 74 drive it too high!\n",
    "# Because of these problems, I changed k_c and alpha_c above and checked a few values.\n",
    "63.14 * F_i_calc(3,0.9,63.14,0.0856) "
   ]
  },
  {
   "cell_type": "code",
   "execution_count": 24,
   "metadata": {
    "collapsed": true
   },
   "outputs": [],
   "source": [
    "x0 = 70.0 # Stuff for testing\n",
    "x1 = 0.0898"
   ]
  },
  {
   "cell_type": "code",
   "execution_count": 25,
   "metadata": {
    "collapsed": false
   },
   "outputs": [
    {
     "data": {
      "text/plain": [
       "14999.760909960267"
      ]
     },
     "execution_count": 25,
     "metadata": {},
     "output_type": "execute_result"
    }
   ],
   "source": [
    "x0*F_i_calc(1,T_n_calc(x0,x1,1),x0,x1) # Yes! over on power"
   ]
  },
  {
   "cell_type": "markdown",
   "metadata": {},
   "source": [
    "### Economics"
   ]
  },
  {
   "cell_type": "markdown",
   "metadata": {},
   "source": [
    "All of the following are candidates for information one might get from an ontology or \"enterprise data.\""
   ]
  },
  {
   "cell_type": "markdown",
   "metadata": {},
   "source": [
    "| Parameter | Variable | Meaning | Relevant Concepts | Units |\n",
    "|-----------------------|\n",
    "| $C_h$     | C_h | Labor cost for loading/unloading per unit time | [Cost](http://modelmeth.nist.gov/manufacturing#Cost) | \\$/min |\n",
    "| $C_w$     | C_w | Labor cost for manning machine per unit time | [Cost](http://modelmeth.nist.gov/manufacturing#Cost) | \\$/min |\n",
    "| $C_z$     | C_z | Cost of machine per unit time in-cut time | [Cost](http://modelmeth.nist.gov/manufacturing#Cost) | \\$/min |\n",
    "| $C_g$     | C_g | Cost of regrinding a tool | [Cost](http://modelmeth.nist.gov/manufacturing#Cost) | [USDollar](http://qudt.org/vocab/unit#USDollar) |\n",
    "| $p$       | p   | Revenue per final part | [Revenue](http://modelmeth.nist.gov/manufacturing#Revenue) | [USDollar](http://qudt.org/vocab/unit#USDollar) |\n",
    "| $t_h$     | t_h | Loading and unloading time for a workpiece | [IndividualPartValue](http://modelmeth.nist.gov/manufacturing#IndividualPartValue), [ProcessTime](http://modelmeth.nist.gov/manufacturing#ProcessTime) | [Minute](http://qudt.org/vocab/unit#Minute) |\n",
    "| $R$       | R   | Target surface roughness | [SurfaceRoughness](http://modelmeth.nist.gov/manufacturing#SurfaceRoughness), [TargetValue](http://modelmeth.nist.gov/manufacturing#TargetValue)| [Micrometer](http://qudt.org/vocab/unit#Micrometer) |\n",
    "| $Q_c$     | Q_c | Quality loss | [Cost](http://modelmeth.nist.gov/manufacturing#Cost) | [USDollar](http://qudt.org/vocab/unit#USDollar) |\n",
    "| $\\ell_d$  | scriptl_d | Quality loss factor for diameter | [Cost](http://modelmeth.nist.gov/manufacturing#Cost), [Diameter](http://modelmeth.nist.gov/manufacturing#Diameter) | \\$/mm^2 |\n",
    "| $\\ell_r$  | scriptl_r | Quality loss factor for roughness | [Cost](http://modelmeth.nist.gov/manufacturing#Cost), [SurfaceRoughness](http://modelmeth.nist.gov/manufacturing#SurfaceRoughness) | \\$/mm^2 |"
   ]
  },
  {
   "cell_type": "code",
   "execution_count": 26,
   "metadata": {
    "collapsed": true
   },
   "outputs": [],
   "source": [
    "p = 37.5 # revenue per part\n",
    "N = 1    # regrind tool after every part\n",
    "C_h = 0.5  # Labor cost, unloading / min\n",
    "C_w = 0.5  # Labor cost, manning the machine\n",
    "C_z = 2.0  # Cost of machine while cutting\n",
    "t_h = 2.0  # Part loading / unloading time / minute\n",
    "C_g = 20.0 # Cost of regrinding \n",
    "GC = C_g   # Grinding cost, again.\n",
    "scriptl_d = 125.0   # quality loss factor, diameter $/mm^2\n",
    "scriptl_r = 0.0075  # quality loss factor, roughness $/um^2\n",
    "# PROBLEM? Optimal values give \\Phi = 9.7. Even they (Table 6) show 9.2. \n",
    "R = 2.5 # target roughness in microns -- so they will carry some loss here. "
   ]
  },
  {
   "cell_type": "markdown",
   "metadata": {},
   "source": [
    "Direct cost, labor cost for loading/unloading, machine and operator (a function of cutting time).\n",
    "\n",
    "$ DC = N C_h t_h + (C_w + C_z) T_N$"
   ]
  },
  {
   "cell_type": "code",
   "execution_count": 27,
   "metadata": {
    "collapsed": true
   },
   "outputs": [],
   "source": [
    "def DC_calc (V, f, N): # Direct cost\n",
    "    return (N * C_h * t_h + (C_w + C_z) * N * t_ci_calc(V, f))\n",
    "def E_calc (N,p): # Total earnings per regrind cycle\n",
    "    return (N*p)  "
   ]
  },
  {
   "cell_type": "markdown",
   "metadata": {},
   "source": [
    "The quality constraint is a weighted sum of Taguchi loss functions for dimensional accuracy and surface roughness.\n",
    "\n",
    "$QC = \\sum\\limits_{i=1}^n \\ell_d\\int_{T_{i-1}}^{T_i} \\! (2\\delta_i - \\Delta_i)^2  \\, \\mathrm{d}t\n",
    "+ \\sum\\limits_{i=1}^n \\ell_r\\int_{T_{i-1}}^{T_i} \\! (\\Phi_i - R)^2  \\, \\mathrm{d}t\n",
    "$"
   ]
  },
  {
   "cell_type": "code",
   "execution_count": 28,
   "metadata": {
    "collapsed": false
   },
   "outputs": [],
   "source": [
    "def integrand1 (i,V,f,t):\n",
    "    return (2.0 * delta_i - Delta_i_calc(i,t,V,f))**2\n",
    "def integrand2 (i,V,f,t):\n",
    "    return (Phi_i_calc(i,t,V,f) - R)**2\n",
    "def QC_calc (V,f,N): \n",
    "    res = 0.0\n",
    "    t = t_ci_calc(V,f)\n",
    "    for i in range (1,N+1):\n",
    "        res += scriptl_d*integrate.quad(functools.partial(integrand1,i,V,f),0.0,t)[0] + \\\n",
    "               scriptl_r*integrate.quad(functools.partial(integrand2,i,V,f),0.0,t)[0]  \n",
    "    return res"
   ]
  },
  {
   "cell_type": "code",
   "execution_count": 29,
   "metadata": {
    "collapsed": false
   },
   "outputs": [
    {
     "name": "stdout",
     "output_type": "stream",
     "text": [
      "70.2577127145984 103.72850870408936\n"
     ]
    }
   ],
   "source": [
    "t1 = QC_calc(70.0,0.0898,1)\n",
    "t2 = QC_calc(80.0,0.0898,1)\n",
    "print(t1, t2)\n",
    "# Good, increase speed, quality penalty increases"
   ]
  },
  {
   "cell_type": "code",
   "execution_count": 30,
   "metadata": {
    "collapsed": false
   },
   "outputs": [
    {
     "name": "stdout",
     "output_type": "stream",
     "text": [
      "69.71176972483444 130.39781510521442\n"
     ]
    }
   ],
   "source": [
    "V = 70.0\n",
    "f = 0.0898\n",
    "t = t_ci_calc(V,f)\n",
    "t1= scriptl_d*integrate.quad(functools.partial(integrand1,1,V,f),0.0,t)[0] \n",
    "V = 80.0\n",
    "t2= scriptl_d*integrate.quad(functools.partial(integrand1,1,V,f),0.0,t)[0] \n",
    "print( t1, t2)\n",
    "# Quality penalty weighed more heavily than dimensional tolerance. "
   ]
  },
  {
   "cell_type": "code",
   "execution_count": 31,
   "metadata": {
    "collapsed": false
   },
   "outputs": [
    {
     "name": "stdout",
     "output_type": "stream",
     "text": [
      "0.5459429897639597 0.47813518185065085\n"
     ]
    }
   ],
   "source": [
    "V = 70.0\n",
    "f = 0.0898\n",
    "t = t_ci_calc(V,f)\n",
    "t1 = scriptl_r*integrate.quad(functools.partial(integrand2,1,V,f),0.0,t)[0] \n",
    "V = 90.0\n",
    "#f = 0.1898\n",
    "t = t_ci_calc(V,f)\n",
    "t2 = scriptl_r*integrate.quad(functools.partial(integrand2,1,V,f),0.0,t)[0] \n",
    "print( t1, t2)\n",
    "# BAD? V increasing, roughness penalty decreasing.\n",
    "# Is it really bad? Maybe not -- at V=90 the loss is over a shorter period.\n",
    "# It is more sensitive (and monotonic?) WRT increasing feed rate."
   ]
  },
  {
   "cell_type": "markdown",
   "metadata": {},
   "source": [
    "### Profit\n",
    "\n",
    "Profit is earnings minus direct cost, regrind cost, and quality penalty.\n",
    "\n",
    "$P = E - (DC + GC + QC)$ \n",
    "\n",
    "Earnings is number processed times revenue per part.\n",
    "\n",
    "$E = N p$"
   ]
  },
  {
   "cell_type": "code",
   "execution_count": 32,
   "metadata": {
    "collapsed": false
   },
   "outputs": [],
   "source": [
    "def P_calc(V,f,N):\n",
    "    return N*p - (DC_calc(V,f,N) + GC + QC_calc(V,f,N))"
   ]
  },
  {
   "cell_type": "code",
   "execution_count": 33,
   "metadata": {
    "collapsed": false
   },
   "outputs": [
    {
     "data": {
      "text/plain": [
       "-58.08483678298245"
      ]
     },
     "execution_count": 33,
     "metadata": {},
     "output_type": "execute_result"
    }
   ],
   "source": [
    "P_calc(70.0,0.0898,1)"
   ]
  },
  {
   "cell_type": "markdown",
   "metadata": {},
   "source": [
    "### Constraints\n",
    "\n",
    "$f_{min} \\le f \\le f_{max}$ mm/rev\n",
    "\n",
    "$V_{min} \\le V \\le V_{max}$ m/min\n",
    "\n",
    "$d_{min} \\le d_i \\le d_{max}$  $ \\forall i=1,2,3...$  mm\n",
    "\n",
    "The paper provides the following bounds on these variables:"
   ]
  },
  {
   "cell_type": "code",
   "execution_count": 34,
   "metadata": {
    "collapsed": false
   },
   "outputs": [],
   "source": [
    "f_min = 0.08\n",
    "f_max = 0.28\n",
    "V_min = 32.0\n",
    "V_max = 70.0\n",
    "d_min = 0.5\n",
    "d_max = 1.5\n",
    "power_max = 15000.0 # watts -- 15 Kw in the paper "
   ]
  },
  {
   "cell_type": "markdown",
   "metadata": {},
   "source": [
    "| Symbol | Variable | Meaning | Relevant Concepts | Units |\n",
    "|------------------|\n",
    "| $D_{LSL}$ | D_USL | Lower bound on final part diameter| [FinalDimension](http://modelmeth.nist.gov/manufacturing#FinalDimension), [Diameter](http://modelmeth.nist.gov/manufacturing#Diameter), [WorkpieceDimension](http://modelmeth.nist.gov/manufacturing#WorkpieceDimension), [MinimumAcceptable Value](http://modelmeth.nist.gov/manufacturing#MinimumAcceptableValue)| [Millimeter](http://qudt.org/vocab/unit#Millimeter) |\n",
    "| $D_{USL}$ | D_LSL |Upper bound on final part diameter|[FinalDimension](http://modelmeth.nist.gov/manufacturing#FinalDimension), [Diameter](http://modelmeth.nist.gov/manufacturing#Diameter), [WorkpieceDimension](http://modelmeth.nist.gov/manufacturing#WorkpieceDimension), [MaximumAcceptableValue](http://modelmeth.nist.gov/manufacturing#MaximumAcceptableValue) | [Millimeter](http://qudt.org/vocab/unit#Millimeter) |\n",
    "| $R_{USL}$ | R_USL | Maximum allowable surface roughness | [SurfaceRoughness](http://modelmeth.nist.gov/manufacturing#SurfaceRoughness), [MaximumAcceptableValue](http://modelmeth.nist.gov/manufacturing#MaximumAcceptableValue) | [Micrometer](http://qudt.org/vocab/unit#Micrometer) |\n",
    "\n",
    "The paper provides the following values:"
   ]
  },
  {
   "cell_type": "code",
   "execution_count": 35,
   "metadata": {
    "collapsed": true
   },
   "outputs": [],
   "source": [
    "R_USL = 10.0\n",
    "D_LSL = 97.9\n",
    "D_USL = 98.1"
   ]
  },
  {
   "cell_type": "markdown",
   "metadata": {},
   "source": [
    "The objective function (profit per minute):\n",
    "\n",
    "$Z = \\frac{P}{N t_h + T_N}$ \n",
    "\n",
    "The design variables need to be in a vector. `x[0] = V, x[1] = f`."
   ]
  },
  {
   "cell_type": "code",
   "execution_count": 36,
   "metadata": {
    "collapsed": false
   },
   "outputs": [
    {
     "data": {
      "text/plain": [
       "-15.568796007515159"
      ]
     },
     "execution_count": 36,
     "metadata": {},
     "output_type": "execute_result"
    }
   ],
   "source": [
    "V = 70.0\n",
    "f = 0.0898\n",
    "P_calc(V,f,N)/(N*t_h + T_n_calc(V,f,N)) # Profit / unit time -- paper shows $3.01"
   ]
  },
  {
   "cell_type": "code",
   "execution_count": 37,
   "metadata": {
    "collapsed": false
   },
   "outputs": [
    {
     "name": "stdout",
     "output_type": "stream",
     "text": [
      "Optimization terminated successfully.    (Exit mode 0)\n",
      "            Current function value: 1.19554040069\n",
      "            Iterations: 15\n",
      "            Function evaluations: 48\n",
      "            Gradient evaluations: 11\n",
      "[ 32.           0.12599559]\n"
     ]
    }
   ],
   "source": [
    "N = 1\n",
    "cons = ({'type': 'ineq',\n",
    "         'fun' : lambda x: np.array([power_max -\n",
    "                                     x[0]*F_i_calc(N,T_n_calc(x[0],x[1],N),x[0],x[1])])},\n",
    "        {'type': 'ineq',\n",
    "         'fun' : lambda x: np.array([R_USL - \n",
    "                                     Phi_i_calc(N,T_n_calc(x[0],x[1],N),x[0],x[1])])},\n",
    "        # POD I *think* drift will be highest on end of Nth part.\n",
    "        {'type': 'ineq',\n",
    "         'fun' : lambda x: np.array([D_USL -\n",
    "                                     Phi_i_calc(N,T_n_calc(x[0],x[1],N),x[0],x[1])])},        \n",
    "        {'type': 'ineq',\n",
    "         'fun' : lambda x: np.array([Phi_i_calc(N,T_n_calc(x[0],x[1],N),x[0],x[1])\n",
    "                                    - D_LSL])},\n",
    "        {'type': 'ineq',\n",
    "         'fun' : lambda x: np.array([W_hat - \n",
    "                                     wear_limit_calc(N,x[0],x[1])])})\n",
    "                                                                         \n",
    "def obj_func (x,sign=-1): \n",
    "    return sign*(P_calc(x[0],x[1],N)/(N*t_h + T_n_calc(x[0],x[1],N)))    \n",
    "\n",
    "res = minimize(obj_func, [60.0,0.08], bounds=[(V_min, V_max), (f_min, f_max)],\n",
    "               constraints=cons,\n",
    "               method='SLSQP', options={'disp': True})\n",
    "print(res.x) "
   ]
  },
  {
   "cell_type": "code",
   "execution_count": 38,
   "metadata": {
    "collapsed": false
   },
   "outputs": [
    {
     "data": {
      "text/plain": [
       "1.1955404006896424"
      ]
     },
     "execution_count": 38,
     "metadata": {},
     "output_type": "execute_result"
    }
   ],
   "source": [
    "obj_func(res.x)"
   ]
  },
  {
   "cell_type": "code",
   "execution_count": 39,
   "metadata": {
    "collapsed": false
   },
   "outputs": [
    {
     "data": {
      "text/plain": [
       "9105.907577029262"
      ]
     },
     "execution_count": 39,
     "metadata": {},
     "output_type": "execute_result"
    }
   ],
   "source": [
    "res.x[0]*F_i_calc(N,T_n_calc(res.x[0],res.x[1],N),res.x[0],res.x[1])"
   ]
  },
  {
   "cell_type": "code",
   "execution_count": 40,
   "metadata": {
    "collapsed": false
   },
   "outputs": [
    {
     "data": {
      "text/plain": [
       "10.000000061243886"
      ]
     },
     "execution_count": 40,
     "metadata": {},
     "output_type": "execute_result"
    }
   ],
   "source": [
    "Phi_i_calc(1,T_n_calc(res.x[0],res.x[1],N),res.x[0],res.x[1])"
   ]
  },
  {
   "cell_type": "code",
   "execution_count": 41,
   "metadata": {
    "collapsed": false
   },
   "outputs": [
    {
     "data": {
      "text/plain": [
       "15.568796007515159"
      ]
     },
     "execution_count": 41,
     "metadata": {},
     "output_type": "execute_result"
    }
   ],
   "source": [
    "obj_func(np.array([x0,x1])) # It is going to 65 because 70 isn't the optimum anymore."
   ]
  },
  {
   "cell_type": "markdown",
   "metadata": {},
   "source": [
    "## References\n",
    "\n",
    "1. Abdelmaguid, T. and F., El-Hossainy, T. J., *Optimal Cutting Parameters for Turning Operations with Costs of Quality and Tool Wear Compensation*, Proceedings of the 2012 International Conference on Industrial Engineering and Operations Management, Istambul, Turkey, July 3--6, 2012."
   ]
  }
 ],
 "metadata": {
  "kernelspec": {
   "display_name": "Python 3",
   "language": "python",
   "name": "python3"
  },
  "language_info": {
   "codemirror_mode": {
    "name": "ipython",
    "version": 3
   },
   "file_extension": ".py",
   "mimetype": "text/x-python",
   "name": "python",
   "nbconvert_exporter": "python",
   "pygments_lexer": "ipython3",
   "version": "3.5.1"
  }
 },
 "nbformat": 4,
 "nbformat_minor": 0
}
